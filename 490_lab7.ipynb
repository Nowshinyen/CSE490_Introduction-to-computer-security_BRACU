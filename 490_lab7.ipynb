{
  "nbformat": 4,
  "nbformat_minor": 0,
  "metadata": {
    "colab": {
      "provenance": []
    },
    "kernelspec": {
      "name": "python3",
      "display_name": "Python 3"
    },
    "language_info": {
      "name": "python"
    }
  },
  "cells": [
    {
      "cell_type": "markdown",
      "source": [
        "# Caesar Cipher"
      ],
      "metadata": {
        "id": "1wOocgMlVig-"
      }
    },
    {
      "cell_type": "code",
      "source": [
        "def decrypt_shift_cipher(ciphertext, key):\n",
        "    plaintext = \"\"\n",
        "    for char in ciphertext:\n",
        "        if char.isalpha():\n",
        "\n",
        "          plaintext +=chr(((ord(char)-ord(\"A\")-key)%26)+ord(\"A\"))\n",
        "        else:\n",
        "            plaintext += char\n",
        "    return plaintext"
      ],
      "metadata": {
        "id": "DeTQVJUm2hm0"
      },
      "execution_count": null,
      "outputs": []
    },
    {
      "cell_type": "code",
      "source": [
        "#Decrypt the following text and find out the value of the key using the decrypt_shift_cipher() method.\n",
        "ciphertext = \"KYV HLZTB SIFNE WFO\"\n",
        "for i in range(26):\n",
        "  print(decrypt_shift_cipher(ciphertext, i),i)"
      ],
      "metadata": {
        "id": "dBQ7hHE_20uH",
        "colab": {
          "base_uri": "https://localhost:8080/"
        },
        "outputId": "0ab47452-0ef4-42f7-e859-3daa5ef5f219"
      },
      "execution_count": null,
      "outputs": [
        {
          "output_type": "stream",
          "name": "stdout",
          "text": [
            "KYV HLZTB SIFNE WFO 0\n",
            "JXU GKYSA RHEMD VEN 1\n",
            "IWT FJXRZ QGDLC UDM 2\n",
            "HVS EIWQY PFCKB TCL 3\n",
            "GUR DHVPX OEBJA SBK 4\n",
            "FTQ CGUOW NDAIZ RAJ 5\n",
            "ESP BFTNV MCZHY QZI 6\n",
            "DRO AESMU LBYGX PYH 7\n",
            "CQN ZDRLT KAXFW OXG 8\n",
            "BPM YCQKS JZWEV NWF 9\n",
            "AOL XBPJR IYVDU MVE 10\n",
            "ZNK WAOIQ HXUCT LUD 11\n",
            "YMJ VZNHP GWTBS KTC 12\n",
            "XLI UYMGO FVSAR JSB 13\n",
            "WKH TXLFN EURZQ IRA 14\n",
            "VJG SWKEM DTQYP HQZ 15\n",
            "UIF RVJDL CSPXO GPY 16\n",
            "THE QUICK BROWN FOX 17\n",
            "SGD PTHBJ AQNVM ENW 18\n",
            "RFC OSGAI ZPMUL DMV 19\n",
            "QEB NRFZH YOLTK CLU 20\n",
            "PDA MQEYG XNKSJ BKT 21\n",
            "OCZ LPDXF WMJRI AJS 22\n",
            "NBY KOCWE VLIQH ZIR 23\n",
            "MAX JNBVD UKHPG YHQ 24\n",
            "LZW IMAUC TJGOF XGP 25\n"
          ]
        }
      ]
    },
    {
      "cell_type": "markdown",
      "source": [
        "# Substitution Cipher"
      ],
      "metadata": {
        "id": "RqFWriJBVoDO"
      }
    },
    {
      "cell_type": "code",
      "source": [
        "import pandas as pd\n",
        "def frequency_table(text):\n",
        "  text = text.lower()\n",
        "  table = []\n",
        "  count = 0\n",
        "  for i in text:\n",
        "    if i in 'qwertyuiopasdfghjklzxcvbnm':\n",
        "      count += 1\n",
        "  for i in range(97,123):\n",
        "      table.append(text.count(chr(i))/count)\n",
        "  index = [i[0] for i in sorted(enumerate(table), key=lambda x:x[1])][::-1]\n",
        "  for i in index:\n",
        "    print(chr(97+i)+\":\"+str(table[i]))"
      ],
      "metadata": {
        "id": "ZwImnQeYVtGE"
      },
      "execution_count": null,
      "outputs": []
    },
    {
      "cell_type": "code",
      "source": [
        "ciphertext = \"RTEQBKR LGGF DTTML B LGXOTM HGSOET EGFMBEM CIG MWKFL GWM MG ZT GFT GY MIT FTVWL-LOV KTFTUBRTL OF ROLUWOLT. RTEQBKR KTMOKTL MIT BFRKGOR, MITF YSOTL GYY MG KTMOKT IOL FTVM MBKUTM: BF GHTKB LOFUTK BFRKGOR. IGCTXTK, IT OL LWRRTFSA BKKTLMTR BFR RTMBOFTR BM B HGSOET RTHBKMDTFM IT IBL FTXTK ITBKR GY ZA B HGSOET GYYOETK CIGD IT OL LWKHKOLTR FTXTK MG IBXT DTM. BM MIOL LMKBFUT LMBMOGF, RTEQBKR'L CGKSRXOTC OL LIBQTF CITF BF GYYOEOBS FBDTR UBKSBFR BEEWLTL RTEQBKR IODLTSY GY ZTOFU BF BFRKGOR. BYMTK B LTKOTL GY DALMTKOGWL KTXTSBMOGFL BM MIT LMBMOGF, RTEQBKR HGFRTKL MIT TMIOEBS BFR HIOSGLGHIOEBS JWTLMOGFL IOL SOFT GY CGKQ KBOLTL KTUBKROFU BFRKGOR OFMTSSOUTFET, TDHBMIA, BFR CIBM OM DTBFL MG ZT IWDBF. HIOS KTLEI, MIT LMBMOGF'L KTLORTFM ZGWFMA IWFMTK, KTMKOTXTL MTLMOFU TJWOHDTFM MG RTMTKDOFT OY IOL EGCGKQTKL--OFESWROFU RTEQBKR BFR KTLEI IODLTSY--BKT BFRKGORL GK IWDBFL. UBKSBFR LWZLTJWTFMSA KTXTBSL MIBM MIT TFMOKT LMBMOGF OL B LIBD, LMBYYTR TFMOKTSA ZA BFRKGORL, OFESWROFU UBKSBFR IODLTSY. KTLEI LIGGML UBKSBFR OF MIT ITBR, BSSGCOFU IOD BFR RTEQBKR MG TLEBHT; MGUTMITK, MITA YOFR MIT GHTKB LOFUTK, CIGD KTLEI ZKWMBSSA KTMOKTL OF EGSR ZSGGR. BSMIGWUI KTLEI BFR RTEQBKR BKT FGC EGSSBZGKBMGKL, TBEI LMOSS CGKKOTL MIBM IT (GK MIT GMITK) DOUIM ZT BF BFRKGOR. RTEQBKR BRDOFOLMTKL MIT TDHBMIA MTLM MG IODLTSY BFR MG KTLEI, CIOEI EGFYOKDL MIBM KTLEI OL B IWDBF ZTOFU--LODHSA B HBKMOEWSBKSA KWMISTLL GFT--BFR MIBM RTEQBKR OL BSLG IWDBF, ZWM COMI B LTFLT GY TDHBMIA YGK MIT BFRKGORL. GFSA MIKTT GY MIT FTVWL-LOV BFRKGOR YWUOMOXTL KTDBOF, BFR GFT, HKOL LMKBMMGF, DGXTL OFMG BF BHBKMDTFM ZWOSROFU CIGLT GFSA GMITK OFIBZOMBFM OL PGIF K. OLORGKT, B KBROGBEMOXTSA RBDBUTR, OFMTSSTEMWBSSA ZTSGC-BXTKBUT IWDBF ESBLLOYOTR BL B LHTEOBS. MIT SGFTSA OLORGKT BMMTDHML MG ZTYKOTFR ITK. KGA BFR OKDUBKR ZBMA\"\n",
        "frequency_table(ciphertext)"
      ],
      "metadata": {
        "id": "2R-LMVH-brn3",
        "colab": {
          "base_uri": "https://localhost:8080/"
        },
        "outputId": "2893087c-0681-4bee-f767-e9b963050e79"
      },
      "execution_count": null,
      "outputs": [
        {
          "output_type": "stream",
          "name": "stdout",
          "text": [
            "t:0.12223756906077347\n",
            "b:0.09046961325966851\n",
            "m:0.08218232044198895\n",
            "o:0.07803867403314917\n",
            "k:0.0738950276243094\n",
            "l:0.07320441988950276\n",
            "f:0.0718232044198895\n",
            "g:0.06422651933701658\n",
            "r:0.05870165745856354\n",
            "i:0.05593922651933702\n",
            "s:0.0393646408839779\n",
            "e:0.029696132596685083\n",
            "d:0.023480662983425413\n",
            "w:0.020718232044198894\n",
            "y:0.019337016574585635\n",
            "u:0.018646408839779006\n",
            "h:0.015193370165745856\n",
            "a:0.014502762430939226\n",
            "z:0.012430939226519336\n",
            "c:0.011740331491712707\n",
            "x:0.008977900552486187\n",
            "q:0.008977900552486187\n",
            "v:0.003453038674033149\n",
            "j:0.0020718232044198894\n",
            "p:0.0006906077348066298\n",
            "n:0.0\n"
          ]
        }
      ]
    },
    {
      "cell_type": "code",
      "source": [
        "ciphertext = \"\"\"RTEQBKR LGGF DTTML B LGXOTM HGSOET EGFMBEM CIG\n",
        "MWKFL GWM MG ZT GFT GY MIT FTVWL-LOV KTFTUBRTL OF ROLUWOLT.\n",
        "RTEQBKR KTMOKTL MIT BFRKGOR, MITF YSOTL GYY MG KTMOKT IOL FTVM MBKUTM:\n",
        "BF GHTKB LOFUTK BFRKGOR. IGCTXTK, IT OL LWRRTFSA BKKTLMTR BFR RTMBOFTR BM\n",
        "B HGSOET RTHBKMDTFM IT IBL FTXTK ITBKR GY ZA B HGSOET GYYOETK CIGD IT OL LWKHKOLTR\n",
        "FTXTK MG IBXT DTM. BM MIOL LMKBFUT LMBMOGF, RTEQBKR'L CGKSRXOTC OL LIBQTF CITF BF GYYOEOBS\n",
        "FBDTR UBKSBFR BEEWLTL RTEQBKR IODLTSY GY ZTOFU BF BFRKGOR. BYMTK B LTKOTL GY DALMTKOGWL\n",
        "KTXTSBMOGFL BM MIT LMBMOGF, RTEQBKR HGFRTKL MIT TMIOEBS BFR HIOSGLGHIOEBS JWTLMOGFL IOL SOFT\n",
        "GY CGKQ KBOLTL KTUBKROFU BFRKGOR OFMTSSOUTFET, TDHBMIA, BFR CIBM OM DTBFL MG ZT IWDBF. HIOS KTLEI,\n",
        "MIT LMBMOGF'L KTLORTFM ZGWFMA IWFMTK, KTMKOTXTL MTLMOFU TJWOHDTFM MG RTMTKDOFT OY IOL EGCGKQTKL--\n",
        "OFESWROFU RTEQBKR BFR KTLEI IODLTSY--BKT BFRKGORL GK IWDBFL. UBKSBFR LWZLTJWTFMSA KTXTBSL MIBM MIT\n",
        "TFMOKT LMBMOGF OL B LIBD, LMBYYTR TFMOKTSA ZA BFRKGORL, OFESWROFU UBKSBFR IODLTSY. KTLEI LIGGML\n",
        "UBKSBFR OF MIT ITBR, BSSGCOFU IOD BFR RTEQBKR MG TLEBHT; MGUTMITK, MITA YOFR MIT GHTKB LOFUTK,\n",
        "CIGD KTLEI ZKWMBSSA KTMOKTL OF EGSR ZSGGR. BSMIGWUI KTLEI BFR RTEQBKR BKT FGC EGSSBZGKBMGKL,\n",
        "TBEI LMOSS CGKKOTL MIBM IT (GK MIT GMITK) DOUIM ZT BF BFRKGOR. RTEQBKR BRDOFOLMTKL MIT TDHBMIA\n",
        "MTLM MG IODLTSY BFR MG KTLEI, CIOEI EGFYOKDL MIBM KTLEI OL B IWDBF ZTOFU--LODHSA\n",
        "B HBKMOEWSBKSA KWMISTLL GFT--BFR MIBM RTEQBKR OL BSLG IWDBF, ZWM COMI B LTFLT GY\n",
        "TDHBMIA YGK MIT BFRKGORL. GFSA MIKTT GY MIT FTVWL-LOV BFRKGOR YWUOMOXTL KTDBOF,\n",
        "BFR GFT, HKOL LMKBMMGF, DGXTL OFMG BF BHBKMDTFM ZWOSROFU CIGLT GFSA GMITK OFIBZOMBFM\n",
        "OL PGIF K. OLORGKT, B KBROGBEMOXTSA RBDBUTR, OFMTSSTEMWBSSA ZTSGC-BXTKBUT IWDBF ESBLLOYOTR\n",
        "BL B LHTEOBS. MIT SGFTSA OLORGKT BMMTDHML MG ZTYKOTFR ITK. KGA BFR OKDUBKR ZBMA\"\"\"\n",
        "\n",
        "\n",
        "\n",
        "ciphertext = ciphertext.replace('T','e')\n",
        "ciphertext = ciphertext.replace('I','h')\n",
        "ciphertext = ciphertext.replace('B','a')\n",
        "ciphertext = ciphertext.replace('M','t')\n",
        "ciphertext = ciphertext.replace('L','s')\n",
        "ciphertext = ciphertext.replace('X','v')\n",
        "ciphertext = ciphertext.replace('G','o')\n",
        "ciphertext = ciphertext.replace('F','n')\n",
        "ciphertext = ciphertext.replace('D','m')\n",
        "ciphertext = ciphertext.replace('O','i')\n",
        "ciphertext = ciphertext.replace('H','p')\n",
        "ciphertext = ciphertext.replace('E','c')\n",
        "ciphertext = ciphertext.replace('S','l')\n",
        "ciphertext = ciphertext.replace('C','w')\n",
        "ciphertext = ciphertext.replace('A','y')\n",
        "ciphertext = ciphertext.replace('Y','f')\n",
        "ciphertext = ciphertext.replace('R','d')\n",
        "ciphertext = ciphertext.replace('W','u')\n",
        "ciphertext = ciphertext.replace('K','r')\n",
        "ciphertext = ciphertext.replace('Z','b')\n",
        "ciphertext = ciphertext.replace('U','g')\n",
        "ciphertext = ciphertext.replace('J','q')\n",
        "ciphertext = ciphertext.replace('V','x')\n",
        "ciphertext = ciphertext.replace('Q','k')\n",
        "ciphertext = ciphertext.replace('P','j')\n",
        "\n",
        "\n",
        "\n",
        "print(ciphertext)\n"
      ],
      "metadata": {
        "id": "B2wtNETpfajr",
        "colab": {
          "base_uri": "https://localhost:8080/"
        },
        "outputId": "7ec9e630-8271-4731-9abc-f1e4350d6cd2"
      },
      "execution_count": null,
      "outputs": [
        {
          "output_type": "stream",
          "name": "stdout",
          "text": [
            "deckard soon meets a soviet police contact who\n",
            "turns out to be one of the nexus-six renegades in disguise.\n",
            "deckard retires the android, then flies off to retire his next target:\n",
            "an opera singer android. however, he is suddenly arrested and detained at\n",
            "a police department he has never heard of by a police officer whom he is surprised\n",
            "never to have met. at this strange station, deckard's worldview is shaken when an official\n",
            "named garland accuses deckard himself of being an android. after a series of mysterious\n",
            "revelations at the station, deckard ponders the ethical and philosophical questions his line\n",
            "of work raises regarding android intelligence, empathy, and what it means to be human. phil resch,\n",
            "the station's resident bounty hunter, retrieves testing equipment to determine if his coworkers--\n",
            "including deckard and resch himself--are androids or humans. garland subsequently reveals that the\n",
            "entire station is a sham, staffed entirely by androids, including garland himself. resch shoots\n",
            "garland in the head, allowing him and deckard to escape; together, they find the opera singer,\n",
            "whom resch brutally retires in cold blood. although resch and deckard are now collaborators,\n",
            "each still worries that he (or the other) might be an android. deckard administers the empathy\n",
            "test to himself and to resch, which confirms that resch is a human being--simply\n",
            "a particularly ruthless one--and that deckard is also human, but with a sense of\n",
            "empathy for the androids. only three of the nexus-six android fugitives remain,\n",
            "and one, pris stratton, moves into an apartment building whose only other inhabitant\n",
            "is john r. isidore, a radioactively damaged, intellectually below-average human classified\n",
            "as a special. the lonely isidore attempts to befriend her. roy and irmgard baty\n"
          ]
        }
      ]
    },
    {
      "cell_type": "markdown",
      "source": [],
      "metadata": {
        "id": "UUM8yPe2f_y_"
      }
    },
    {
      "cell_type": "code",
      "source": [
        "ciphertext = \"\"\"EGFLORTK B KGGD. MIT SGEBMOGF GY MIT KGGD OL FGM OF JWTLMOGF BM MIT DGDTFM.\n",
        "OM OL DTKTSA LWYYOEOTFM MG LBA MIBM OF MIBM KGGD, DGKT MIBF BFACITKT, MIT LTEGFR YGWFRBMOGF TVOLMTR.\n",
        "OM CBL B KGGD CIOEI, MIKGWUI MIT ETFMWKOTL, IBR ZTTF MIT BZGRT GY HWKT LEOTFET ATM OM IBR FGFT GY MIT UBRUTML COMI CIOEI,\n",
        "MIKGWUI DOSSTFFOB GY BLLGEOBMOGF, LEOTFET IBL EGDT MG ZT EGFLORTKTR TJWOXBSTFM. OM CBL B LEOTFET, OFLMTBR, CIOEI RTBSM COMI DBMITDBMOEBS\n",
        "EGFETHML GFSA, OF B DBFFTK LODOSBK MG MIT LHTEWSBMOGF GY BFEOTFM, BFEOTFM KBETL OF MIT HKODOMOXT, HKTIOLMGKOE RBAL ZTYGKT MTEIFGSGUA IBR EGDT MG ZT;\n",
        "ZTYGKT DBF IBR LHKTBR ZTAGFR B LOFUST, FGC-WFQFGCF CGKSR. YGK GFT MIOFU, MITKT CBL OF MIBM KGGD - HKGMTEMTR ZA B DTFMBS LEOTFET BL ATM WFBLLBOSBZST\n",
        "ZA MIT EGDZOFTR HIALOEBS DOUIM GY MIT KTLM GY MIT UBSBVA - MIT HKODT KBROBFM, CIOEI ITSR OF OML XOMBSL MIT LTSRGF HSBF - EGDHSTMT. YGK BFGMITK, MITKT\n",
        "CBL B DBF, MGG, OF MIBM KGGD - MIT YOKLM LHTBQTK. IT CBL MIT MCTSYMI OF MIT SOFT GY EIOTY UWBKROBFL GY MIT HSBF, BFR IOL MOMST ZGKT FG RTTHTK\n",
        "LOUFOYOEBFET MIBF MIT YBEM MIBM BM MIT UBMITKOFUL GY MIT STBRTKL GY MIT LTEGFR YGWFRBMOGF, IT LHGQT YOKLM. IOL HKTRTETLLGK IBR ZTBMTF MIT DWST,\n",
        "ZWM MIT CKTEQBUT GY MIBM UOUBFMOE LMKWUUST LMOSS SOMMTKTR MIT HBMI GY MIT HSBF- YGK MCTFMA-YOXT ATBKL, IT, BFR IOL BRDOFOLMKBMOGF, IBR ZTTF MKAOFU\n",
        "MG YGKET B UBSBVA GY LMWZZGKF BFR LMWHOR IWDBF ZTOFUL ZBEQ MG MIT HBMI- OM CBL B MTKKOZST MBLQ. MIT YOKLM LHTBQTK SGGQTR WH BM MIT GHTFOFU RGGK.\n",
        "TXTF CIOST, OF MIT SGFTSOFTLL GY MIT KGGD, IT EGFLORTKTR IOL JWBKMTK ETFMWKA GY TYYGKM, CIOEI FGC LG LSGCSA BFR OFTXOMBZSA BHHKGBEITR OML ESODBV;\n",
        "TXTF CIOST IT IBR ZTTF LG TFUBUTR, IOL DOFR IBR ZTTF EGFLORTKOFU MIT FTCEGDTK COMI B UTFMST TVHTEMBMOGF. B AGWMI, B LMWRTFM, GFT GY MIGLT CIG\n",
        "DOUIM MBQT GXTK, TXTFMWBSSA \"\"\"\n",
        "\n",
        "\n",
        "\n",
        "ciphertext = ciphertext.replace('T','e')\n",
        "ciphertext = ciphertext.replace('I','h')\n",
        "ciphertext = ciphertext.replace('B','a')\n",
        "ciphertext = ciphertext.replace('M','t')\n",
        "ciphertext = ciphertext.replace('L','s')\n",
        "ciphertext = ciphertext.replace('X','v')\n",
        "ciphertext = ciphertext.replace('G','o')\n",
        "ciphertext = ciphertext.replace('F','n')\n",
        "ciphertext = ciphertext.replace('D','m')\n",
        "ciphertext = ciphertext.replace('O','i')\n",
        "ciphertext = ciphertext.replace('H','p')\n",
        "ciphertext = ciphertext.replace('E','c')\n",
        "ciphertext = ciphertext.replace('S','l')\n",
        "ciphertext = ciphertext.replace('C','w')\n",
        "ciphertext = ciphertext.replace('A','y')\n",
        "ciphertext = ciphertext.replace('Y','f')\n",
        "ciphertext = ciphertext.replace('R','d')\n",
        "ciphertext = ciphertext.replace('W','u')\n",
        "ciphertext = ciphertext.replace('K','r')\n",
        "ciphertext = ciphertext.replace('Z','b')\n",
        "ciphertext = ciphertext.replace('U','g')\n",
        "ciphertext = ciphertext.replace('J','q')\n",
        "ciphertext = ciphertext.replace('V','x')\n",
        "ciphertext = ciphertext.replace('Q','k')\n",
        "ciphertext = ciphertext.replace('P','j')\n",
        "\n",
        "\n",
        "\n",
        "print(ciphertext)\n",
        "\n"
      ],
      "metadata": {
        "id": "jBcbo4pUbPqZ",
        "colab": {
          "base_uri": "https://localhost:8080/"
        },
        "outputId": "b8ff67e4-64d6-47de-ac90-87ed27d8c75e"
      },
      "execution_count": null,
      "outputs": [
        {
          "output_type": "stream",
          "name": "stdout",
          "text": [
            "consider a room. the location of the room is not in question at the moment.\n",
            "it is merely sufficient to say that in that room, more than anywhere, the second foundation existed.\n",
            "it was a room which, through the centuries, had been the abode of pure science yet it had none of the gadgets with which, \n",
            "through millennia of association, science has come to be considered equivalent. it was a science, instead, which dealt with mathematical \n",
            "concepts only, in a manner similar to the speculation of ancient, ancient races in the primitive, prehistoric days before technology had come to be;\n",
            "before man had spread beyond a single, now-unknown world. for one thing, there was in that room - protected by a mental science as yet unassailable\n",
            "by the combined physical might of the rest of the galaxy - the prime radiant, which held in its vitals the seldon plan - complete. for another, there \n",
            "was a man, too, in that room - the first speaker. he was the twelfth in the line of chief guardians of the plan, and his title bore no deeper\n",
            "significance than the fact that at the gatherings of the leaders of the second foundation, he spoke first. his predecessor had beaten the mule,\n",
            "but the wreckage of that gigantic struggle still littered the path of the plan- for twenty-five years, he, and his administration, had been trying \n",
            "to force a galaxy of stubborn and stupid human beings back to the path- it was a terrible task. the first speaker looked up at the opening door.\n",
            "even while, in the loneliness of the room, he considered his quarter century of effort, which now so slowly and inevitably approached its climax; \n",
            "even while he had been so engaged, his mind had been considering the newcomer with a gentle expectation. a youth, a student, one of those who\n",
            "might take over, eventually \n"
          ]
        }
      ]
    },
    {
      "cell_type": "code",
      "source": [],
      "metadata": {
        "id": "S7vPhxiMBgPK"
      },
      "execution_count": null,
      "outputs": []
    }
  ]
}